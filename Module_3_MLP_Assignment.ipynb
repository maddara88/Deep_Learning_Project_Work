{
 "cells": [
  {
   "cell_type": "markdown",
   "id": "979f592f",
   "metadata": {},
   "source": [
    "# Module 3: MLP Assignment"
   ]
  },
  {
   "cell_type": "code",
   "execution_count": 1,
   "id": "843426a0",
   "metadata": {},
   "outputs": [],
   "source": [
    "# Problem Statement:\n",
    "    \n",
    "# Consider yourself to be Matt, who is a Deep Learning Engineer at a prestigious Wine firm. You are asked \n",
    "# to look into Wine fraud that has occurred recently at your firm. Let's see if Neural Networks can help \n",
    "# with this problem! \n",
    "\n",
    "\n",
    "# Requirements:\n",
    "    \n",
    "# You'll need to have the latest version of SciKit Learn (>0.18) installed! It is easily installable either \n",
    "# through pip or conda \n",
    "\n",
    "\n",
    "# Dataset Used:\n",
    "    \n",
    "# We will use the wine data set from the UCI Machine Learning Repository. It has various chemical \n",
    "# features of different wines, all grown in the same region in Italy, but the data is labeled by three \n",
    "# different possible cultivars"
   ]
  },
  {
   "cell_type": "code",
   "execution_count": 3,
   "id": "d46a7f0d",
   "metadata": {},
   "outputs": [],
   "source": [
    "# A. Import the dataset, and add header columns with the names function \n",
    "\n",
    "# a. Check out the data \n",
    "\n",
    "\n",
    "# B. Split your data into training and testing sets using SciKitLearn'strain_test_split function \n",
    "# from model_selection\n",
    "\n",
    "# a. It is highly recommended to scale your data. You must apply the same scaling to \n",
    "# the test set for meaningful results. Use the built-in Standard Scaler for \n",
    "# standardization. \n",
    "\n",
    "# b. Train your model using ScikitLearn’s estimator objects\n",
    "\n",
    "# c. Create an instance of the model by defining the hidden_layer_sizes \n",
    "\n",
    "# d. Fit the training data to your model \n",
    "\n",
    "\n",
    "# C. Use predict () method to get predictions \n",
    "\n",
    "# a. Use SciKit-Learn's built in metrics to evaluate how well our model performed\n",
    "\n",
    "# b. Extract the MLP weights and biases after training your model "
   ]
  },
  {
   "cell_type": "code",
   "execution_count": 4,
   "id": "31c3e4fd",
   "metadata": {},
   "outputs": [],
   "source": [
    "import numpy as np\n",
    "import pandas as pd\n",
    "import matplotlib.pyplot as plt\n",
    "import tensorflow as tf\n",
    "import seaborn as sns"
   ]
  },
  {
   "cell_type": "code",
   "execution_count": 7,
   "id": "f5878c4a",
   "metadata": {},
   "outputs": [],
   "source": [
    "#Importing DataSets\n",
    "df = pd.read_csv(\"C:\\\\Users\\\\HP\\OneDrive\\\\Desktop\\\\aI\\\\wine.data\",header = None)"
   ]
  },
  {
   "cell_type": "code",
   "execution_count": 8,
   "id": "7f675b51",
   "metadata": {},
   "outputs": [
    {
     "data": {
      "text/html": [
       "<div>\n",
       "<style scoped>\n",
       "    .dataframe tbody tr th:only-of-type {\n",
       "        vertical-align: middle;\n",
       "    }\n",
       "\n",
       "    .dataframe tbody tr th {\n",
       "        vertical-align: top;\n",
       "    }\n",
       "\n",
       "    .dataframe thead th {\n",
       "        text-align: right;\n",
       "    }\n",
       "</style>\n",
       "<table border=\"1\" class=\"dataframe\">\n",
       "  <thead>\n",
       "    <tr style=\"text-align: right;\">\n",
       "      <th></th>\n",
       "      <th>0</th>\n",
       "      <th>1</th>\n",
       "      <th>2</th>\n",
       "      <th>3</th>\n",
       "      <th>4</th>\n",
       "      <th>5</th>\n",
       "      <th>6</th>\n",
       "      <th>7</th>\n",
       "      <th>8</th>\n",
       "      <th>9</th>\n",
       "      <th>10</th>\n",
       "      <th>11</th>\n",
       "      <th>12</th>\n",
       "      <th>13</th>\n",
       "    </tr>\n",
       "  </thead>\n",
       "  <tbody>\n",
       "    <tr>\n",
       "      <th>0</th>\n",
       "      <td>1</td>\n",
       "      <td>14.23</td>\n",
       "      <td>1.71</td>\n",
       "      <td>2.43</td>\n",
       "      <td>15.6</td>\n",
       "      <td>127</td>\n",
       "      <td>2.80</td>\n",
       "      <td>3.06</td>\n",
       "      <td>0.28</td>\n",
       "      <td>2.29</td>\n",
       "      <td>5.64</td>\n",
       "      <td>1.04</td>\n",
       "      <td>3.92</td>\n",
       "      <td>1065</td>\n",
       "    </tr>\n",
       "    <tr>\n",
       "      <th>1</th>\n",
       "      <td>1</td>\n",
       "      <td>13.20</td>\n",
       "      <td>1.78</td>\n",
       "      <td>2.14</td>\n",
       "      <td>11.2</td>\n",
       "      <td>100</td>\n",
       "      <td>2.65</td>\n",
       "      <td>2.76</td>\n",
       "      <td>0.26</td>\n",
       "      <td>1.28</td>\n",
       "      <td>4.38</td>\n",
       "      <td>1.05</td>\n",
       "      <td>3.40</td>\n",
       "      <td>1050</td>\n",
       "    </tr>\n",
       "    <tr>\n",
       "      <th>2</th>\n",
       "      <td>1</td>\n",
       "      <td>13.16</td>\n",
       "      <td>2.36</td>\n",
       "      <td>2.67</td>\n",
       "      <td>18.6</td>\n",
       "      <td>101</td>\n",
       "      <td>2.80</td>\n",
       "      <td>3.24</td>\n",
       "      <td>0.30</td>\n",
       "      <td>2.81</td>\n",
       "      <td>5.68</td>\n",
       "      <td>1.03</td>\n",
       "      <td>3.17</td>\n",
       "      <td>1185</td>\n",
       "    </tr>\n",
       "    <tr>\n",
       "      <th>3</th>\n",
       "      <td>1</td>\n",
       "      <td>14.37</td>\n",
       "      <td>1.95</td>\n",
       "      <td>2.50</td>\n",
       "      <td>16.8</td>\n",
       "      <td>113</td>\n",
       "      <td>3.85</td>\n",
       "      <td>3.49</td>\n",
       "      <td>0.24</td>\n",
       "      <td>2.18</td>\n",
       "      <td>7.80</td>\n",
       "      <td>0.86</td>\n",
       "      <td>3.45</td>\n",
       "      <td>1480</td>\n",
       "    </tr>\n",
       "    <tr>\n",
       "      <th>4</th>\n",
       "      <td>1</td>\n",
       "      <td>13.24</td>\n",
       "      <td>2.59</td>\n",
       "      <td>2.87</td>\n",
       "      <td>21.0</td>\n",
       "      <td>118</td>\n",
       "      <td>2.80</td>\n",
       "      <td>2.69</td>\n",
       "      <td>0.39</td>\n",
       "      <td>1.82</td>\n",
       "      <td>4.32</td>\n",
       "      <td>1.04</td>\n",
       "      <td>2.93</td>\n",
       "      <td>735</td>\n",
       "    </tr>\n",
       "  </tbody>\n",
       "</table>\n",
       "</div>"
      ],
      "text/plain": [
       "   0      1     2     3     4    5     6     7     8     9     10    11    12  \\\n",
       "0   1  14.23  1.71  2.43  15.6  127  2.80  3.06  0.28  2.29  5.64  1.04  3.92   \n",
       "1   1  13.20  1.78  2.14  11.2  100  2.65  2.76  0.26  1.28  4.38  1.05  3.40   \n",
       "2   1  13.16  2.36  2.67  18.6  101  2.80  3.24  0.30  2.81  5.68  1.03  3.17   \n",
       "3   1  14.37  1.95  2.50  16.8  113  3.85  3.49  0.24  2.18  7.80  0.86  3.45   \n",
       "4   1  13.24  2.59  2.87  21.0  118  2.80  2.69  0.39  1.82  4.32  1.04  2.93   \n",
       "\n",
       "     13  \n",
       "0  1065  \n",
       "1  1050  \n",
       "2  1185  \n",
       "3  1480  \n",
       "4   735  "
      ]
     },
     "execution_count": 8,
     "metadata": {},
     "output_type": "execute_result"
    }
   ],
   "source": [
    "df.head()"
   ]
  },
  {
   "cell_type": "code",
   "execution_count": 10,
   "id": "eccc9b3b",
   "metadata": {},
   "outputs": [],
   "source": [
    "# adding header columns\n",
    "df.columns = ['Cultivar', 'Alcohol', 'Malic_acid', 'Ash', 'Alcalinity_of_ash', 'Magnesium', 'Total_phenols', \n",
    "                     'Flavanoids', 'Nonflavanoid_phenols', 'Proanthocyanins', 'Color_intensity', 'Hue', \n",
    "                     'OD280/OD315_of_diluted_wines', 'Proline']"
   ]
  },
  {
   "cell_type": "code",
   "execution_count": 11,
   "id": "334be910",
   "metadata": {},
   "outputs": [
    {
     "data": {
      "text/html": [
       "<div>\n",
       "<style scoped>\n",
       "    .dataframe tbody tr th:only-of-type {\n",
       "        vertical-align: middle;\n",
       "    }\n",
       "\n",
       "    .dataframe tbody tr th {\n",
       "        vertical-align: top;\n",
       "    }\n",
       "\n",
       "    .dataframe thead th {\n",
       "        text-align: right;\n",
       "    }\n",
       "</style>\n",
       "<table border=\"1\" class=\"dataframe\">\n",
       "  <thead>\n",
       "    <tr style=\"text-align: right;\">\n",
       "      <th></th>\n",
       "      <th>Cultivar</th>\n",
       "      <th>Alcohol</th>\n",
       "      <th>Malic_acid</th>\n",
       "      <th>Ash</th>\n",
       "      <th>Alcalinity_of_ash</th>\n",
       "      <th>Magnesium</th>\n",
       "      <th>Total_phenols</th>\n",
       "      <th>Flavanoids</th>\n",
       "      <th>Nonflavanoid_phenols</th>\n",
       "      <th>Proanthocyanins</th>\n",
       "      <th>Color_intensity</th>\n",
       "      <th>Hue</th>\n",
       "      <th>OD280/OD315_of_diluted_wines</th>\n",
       "      <th>Proline</th>\n",
       "    </tr>\n",
       "  </thead>\n",
       "  <tbody>\n",
       "    <tr>\n",
       "      <th>0</th>\n",
       "      <td>1</td>\n",
       "      <td>14.23</td>\n",
       "      <td>1.71</td>\n",
       "      <td>2.43</td>\n",
       "      <td>15.6</td>\n",
       "      <td>127</td>\n",
       "      <td>2.80</td>\n",
       "      <td>3.06</td>\n",
       "      <td>0.28</td>\n",
       "      <td>2.29</td>\n",
       "      <td>5.64</td>\n",
       "      <td>1.04</td>\n",
       "      <td>3.92</td>\n",
       "      <td>1065</td>\n",
       "    </tr>\n",
       "    <tr>\n",
       "      <th>1</th>\n",
       "      <td>1</td>\n",
       "      <td>13.20</td>\n",
       "      <td>1.78</td>\n",
       "      <td>2.14</td>\n",
       "      <td>11.2</td>\n",
       "      <td>100</td>\n",
       "      <td>2.65</td>\n",
       "      <td>2.76</td>\n",
       "      <td>0.26</td>\n",
       "      <td>1.28</td>\n",
       "      <td>4.38</td>\n",
       "      <td>1.05</td>\n",
       "      <td>3.40</td>\n",
       "      <td>1050</td>\n",
       "    </tr>\n",
       "    <tr>\n",
       "      <th>2</th>\n",
       "      <td>1</td>\n",
       "      <td>13.16</td>\n",
       "      <td>2.36</td>\n",
       "      <td>2.67</td>\n",
       "      <td>18.6</td>\n",
       "      <td>101</td>\n",
       "      <td>2.80</td>\n",
       "      <td>3.24</td>\n",
       "      <td>0.30</td>\n",
       "      <td>2.81</td>\n",
       "      <td>5.68</td>\n",
       "      <td>1.03</td>\n",
       "      <td>3.17</td>\n",
       "      <td>1185</td>\n",
       "    </tr>\n",
       "    <tr>\n",
       "      <th>3</th>\n",
       "      <td>1</td>\n",
       "      <td>14.37</td>\n",
       "      <td>1.95</td>\n",
       "      <td>2.50</td>\n",
       "      <td>16.8</td>\n",
       "      <td>113</td>\n",
       "      <td>3.85</td>\n",
       "      <td>3.49</td>\n",
       "      <td>0.24</td>\n",
       "      <td>2.18</td>\n",
       "      <td>7.80</td>\n",
       "      <td>0.86</td>\n",
       "      <td>3.45</td>\n",
       "      <td>1480</td>\n",
       "    </tr>\n",
       "    <tr>\n",
       "      <th>4</th>\n",
       "      <td>1</td>\n",
       "      <td>13.24</td>\n",
       "      <td>2.59</td>\n",
       "      <td>2.87</td>\n",
       "      <td>21.0</td>\n",
       "      <td>118</td>\n",
       "      <td>2.80</td>\n",
       "      <td>2.69</td>\n",
       "      <td>0.39</td>\n",
       "      <td>1.82</td>\n",
       "      <td>4.32</td>\n",
       "      <td>1.04</td>\n",
       "      <td>2.93</td>\n",
       "      <td>735</td>\n",
       "    </tr>\n",
       "  </tbody>\n",
       "</table>\n",
       "</div>"
      ],
      "text/plain": [
       "   Cultivar  Alcohol  Malic_acid   Ash  Alcalinity_of_ash  Magnesium  \\\n",
       "0         1    14.23        1.71  2.43               15.6        127   \n",
       "1         1    13.20        1.78  2.14               11.2        100   \n",
       "2         1    13.16        2.36  2.67               18.6        101   \n",
       "3         1    14.37        1.95  2.50               16.8        113   \n",
       "4         1    13.24        2.59  2.87               21.0        118   \n",
       "\n",
       "   Total_phenols  Flavanoids  Nonflavanoid_phenols  Proanthocyanins  \\\n",
       "0           2.80        3.06                  0.28             2.29   \n",
       "1           2.65        2.76                  0.26             1.28   \n",
       "2           2.80        3.24                  0.30             2.81   \n",
       "3           3.85        3.49                  0.24             2.18   \n",
       "4           2.80        2.69                  0.39             1.82   \n",
       "\n",
       "   Color_intensity   Hue  OD280/OD315_of_diluted_wines  Proline  \n",
       "0             5.64  1.04                          3.92     1065  \n",
       "1             4.38  1.05                          3.40     1050  \n",
       "2             5.68  1.03                          3.17     1185  \n",
       "3             7.80  0.86                          3.45     1480  \n",
       "4             4.32  1.04                          2.93      735  "
      ]
     },
     "execution_count": 11,
     "metadata": {},
     "output_type": "execute_result"
    }
   ],
   "source": [
    "df.head()"
   ]
  },
  {
   "cell_type": "code",
   "execution_count": 59,
   "id": "f43d67bd",
   "metadata": {},
   "outputs": [
    {
     "data": {
      "text/plain": [
       "Cultivar                        0\n",
       "Alcohol                         0\n",
       "Malic_acid                      0\n",
       "Ash                             0\n",
       "Alcalinity_of_ash               0\n",
       "Magnesium                       0\n",
       "Total_phenols                   0\n",
       "Flavanoids                      0\n",
       "Nonflavanoid_phenols            0\n",
       "Proanthocyanins                 0\n",
       "Color_intensity                 0\n",
       "Hue                             0\n",
       "OD280/OD315_of_diluted_wines    0\n",
       "Proline                         0\n",
       "dtype: int64"
      ]
     },
     "execution_count": 59,
     "metadata": {},
     "output_type": "execute_result"
    }
   ],
   "source": [
    "#checking for null values\n",
    "\n",
    "df.isnull().sum()"
   ]
  },
  {
   "cell_type": "code",
   "execution_count": 60,
   "id": "ec8220d8",
   "metadata": {},
   "outputs": [
    {
     "data": {
      "text/html": [
       "<div>\n",
       "<style scoped>\n",
       "    .dataframe tbody tr th:only-of-type {\n",
       "        vertical-align: middle;\n",
       "    }\n",
       "\n",
       "    .dataframe tbody tr th {\n",
       "        vertical-align: top;\n",
       "    }\n",
       "\n",
       "    .dataframe thead th {\n",
       "        text-align: right;\n",
       "    }\n",
       "</style>\n",
       "<table border=\"1\" class=\"dataframe\">\n",
       "  <thead>\n",
       "    <tr style=\"text-align: right;\">\n",
       "      <th></th>\n",
       "      <th>Cultivar</th>\n",
       "      <th>Alcohol</th>\n",
       "      <th>Malic_acid</th>\n",
       "      <th>Ash</th>\n",
       "      <th>Alcalinity_of_ash</th>\n",
       "      <th>Magnesium</th>\n",
       "      <th>Total_phenols</th>\n",
       "      <th>Flavanoids</th>\n",
       "      <th>Nonflavanoid_phenols</th>\n",
       "      <th>Proanthocyanins</th>\n",
       "      <th>Color_intensity</th>\n",
       "      <th>Hue</th>\n",
       "      <th>OD280/OD315_of_diluted_wines</th>\n",
       "      <th>Proline</th>\n",
       "    </tr>\n",
       "  </thead>\n",
       "  <tbody>\n",
       "    <tr>\n",
       "      <th>count</th>\n",
       "      <td>178.000000</td>\n",
       "      <td>178.000000</td>\n",
       "      <td>178.000000</td>\n",
       "      <td>178.000000</td>\n",
       "      <td>178.000000</td>\n",
       "      <td>178.000000</td>\n",
       "      <td>178.000000</td>\n",
       "      <td>178.000000</td>\n",
       "      <td>178.000000</td>\n",
       "      <td>178.000000</td>\n",
       "      <td>178.000000</td>\n",
       "      <td>178.000000</td>\n",
       "      <td>178.000000</td>\n",
       "      <td>178.000000</td>\n",
       "    </tr>\n",
       "    <tr>\n",
       "      <th>mean</th>\n",
       "      <td>1.938202</td>\n",
       "      <td>13.000618</td>\n",
       "      <td>2.336348</td>\n",
       "      <td>2.366517</td>\n",
       "      <td>19.494944</td>\n",
       "      <td>99.741573</td>\n",
       "      <td>2.295112</td>\n",
       "      <td>2.029270</td>\n",
       "      <td>0.361854</td>\n",
       "      <td>1.590899</td>\n",
       "      <td>5.058090</td>\n",
       "      <td>0.957449</td>\n",
       "      <td>2.611685</td>\n",
       "      <td>746.893258</td>\n",
       "    </tr>\n",
       "    <tr>\n",
       "      <th>std</th>\n",
       "      <td>0.775035</td>\n",
       "      <td>0.811827</td>\n",
       "      <td>1.117146</td>\n",
       "      <td>0.274344</td>\n",
       "      <td>3.339564</td>\n",
       "      <td>14.282484</td>\n",
       "      <td>0.625851</td>\n",
       "      <td>0.998859</td>\n",
       "      <td>0.124453</td>\n",
       "      <td>0.572359</td>\n",
       "      <td>2.318286</td>\n",
       "      <td>0.228572</td>\n",
       "      <td>0.709990</td>\n",
       "      <td>314.907474</td>\n",
       "    </tr>\n",
       "    <tr>\n",
       "      <th>min</th>\n",
       "      <td>1.000000</td>\n",
       "      <td>11.030000</td>\n",
       "      <td>0.740000</td>\n",
       "      <td>1.360000</td>\n",
       "      <td>10.600000</td>\n",
       "      <td>70.000000</td>\n",
       "      <td>0.980000</td>\n",
       "      <td>0.340000</td>\n",
       "      <td>0.130000</td>\n",
       "      <td>0.410000</td>\n",
       "      <td>1.280000</td>\n",
       "      <td>0.480000</td>\n",
       "      <td>1.270000</td>\n",
       "      <td>278.000000</td>\n",
       "    </tr>\n",
       "    <tr>\n",
       "      <th>25%</th>\n",
       "      <td>1.000000</td>\n",
       "      <td>12.362500</td>\n",
       "      <td>1.602500</td>\n",
       "      <td>2.210000</td>\n",
       "      <td>17.200000</td>\n",
       "      <td>88.000000</td>\n",
       "      <td>1.742500</td>\n",
       "      <td>1.205000</td>\n",
       "      <td>0.270000</td>\n",
       "      <td>1.250000</td>\n",
       "      <td>3.220000</td>\n",
       "      <td>0.782500</td>\n",
       "      <td>1.937500</td>\n",
       "      <td>500.500000</td>\n",
       "    </tr>\n",
       "    <tr>\n",
       "      <th>50%</th>\n",
       "      <td>2.000000</td>\n",
       "      <td>13.050000</td>\n",
       "      <td>1.865000</td>\n",
       "      <td>2.360000</td>\n",
       "      <td>19.500000</td>\n",
       "      <td>98.000000</td>\n",
       "      <td>2.355000</td>\n",
       "      <td>2.135000</td>\n",
       "      <td>0.340000</td>\n",
       "      <td>1.555000</td>\n",
       "      <td>4.690000</td>\n",
       "      <td>0.965000</td>\n",
       "      <td>2.780000</td>\n",
       "      <td>673.500000</td>\n",
       "    </tr>\n",
       "    <tr>\n",
       "      <th>75%</th>\n",
       "      <td>3.000000</td>\n",
       "      <td>13.677500</td>\n",
       "      <td>3.082500</td>\n",
       "      <td>2.557500</td>\n",
       "      <td>21.500000</td>\n",
       "      <td>107.000000</td>\n",
       "      <td>2.800000</td>\n",
       "      <td>2.875000</td>\n",
       "      <td>0.437500</td>\n",
       "      <td>1.950000</td>\n",
       "      <td>6.200000</td>\n",
       "      <td>1.120000</td>\n",
       "      <td>3.170000</td>\n",
       "      <td>985.000000</td>\n",
       "    </tr>\n",
       "    <tr>\n",
       "      <th>max</th>\n",
       "      <td>3.000000</td>\n",
       "      <td>14.830000</td>\n",
       "      <td>5.800000</td>\n",
       "      <td>3.230000</td>\n",
       "      <td>30.000000</td>\n",
       "      <td>162.000000</td>\n",
       "      <td>3.880000</td>\n",
       "      <td>5.080000</td>\n",
       "      <td>0.660000</td>\n",
       "      <td>3.580000</td>\n",
       "      <td>13.000000</td>\n",
       "      <td>1.710000</td>\n",
       "      <td>4.000000</td>\n",
       "      <td>1680.000000</td>\n",
       "    </tr>\n",
       "  </tbody>\n",
       "</table>\n",
       "</div>"
      ],
      "text/plain": [
       "         Cultivar     Alcohol  Malic_acid         Ash  Alcalinity_of_ash  \\\n",
       "count  178.000000  178.000000  178.000000  178.000000         178.000000   \n",
       "mean     1.938202   13.000618    2.336348    2.366517          19.494944   \n",
       "std      0.775035    0.811827    1.117146    0.274344           3.339564   \n",
       "min      1.000000   11.030000    0.740000    1.360000          10.600000   \n",
       "25%      1.000000   12.362500    1.602500    2.210000          17.200000   \n",
       "50%      2.000000   13.050000    1.865000    2.360000          19.500000   \n",
       "75%      3.000000   13.677500    3.082500    2.557500          21.500000   \n",
       "max      3.000000   14.830000    5.800000    3.230000          30.000000   \n",
       "\n",
       "        Magnesium  Total_phenols  Flavanoids  Nonflavanoid_phenols  \\\n",
       "count  178.000000     178.000000  178.000000            178.000000   \n",
       "mean    99.741573       2.295112    2.029270              0.361854   \n",
       "std     14.282484       0.625851    0.998859              0.124453   \n",
       "min     70.000000       0.980000    0.340000              0.130000   \n",
       "25%     88.000000       1.742500    1.205000              0.270000   \n",
       "50%     98.000000       2.355000    2.135000              0.340000   \n",
       "75%    107.000000       2.800000    2.875000              0.437500   \n",
       "max    162.000000       3.880000    5.080000              0.660000   \n",
       "\n",
       "       Proanthocyanins  Color_intensity         Hue  \\\n",
       "count       178.000000       178.000000  178.000000   \n",
       "mean          1.590899         5.058090    0.957449   \n",
       "std           0.572359         2.318286    0.228572   \n",
       "min           0.410000         1.280000    0.480000   \n",
       "25%           1.250000         3.220000    0.782500   \n",
       "50%           1.555000         4.690000    0.965000   \n",
       "75%           1.950000         6.200000    1.120000   \n",
       "max           3.580000        13.000000    1.710000   \n",
       "\n",
       "       OD280/OD315_of_diluted_wines      Proline  \n",
       "count                    178.000000   178.000000  \n",
       "mean                       2.611685   746.893258  \n",
       "std                        0.709990   314.907474  \n",
       "min                        1.270000   278.000000  \n",
       "25%                        1.937500   500.500000  \n",
       "50%                        2.780000   673.500000  \n",
       "75%                        3.170000   985.000000  \n",
       "max                        4.000000  1680.000000  "
      ]
     },
     "execution_count": 60,
     "metadata": {},
     "output_type": "execute_result"
    }
   ],
   "source": [
    "df.describe()"
   ]
  },
  {
   "cell_type": "code",
   "execution_count": 61,
   "id": "5d5db9b4",
   "metadata": {},
   "outputs": [
    {
     "name": "stdout",
     "output_type": "stream",
     "text": [
      "<class 'pandas.core.frame.DataFrame'>\n",
      "RangeIndex: 178 entries, 0 to 177\n",
      "Data columns (total 14 columns):\n",
      " #   Column                        Non-Null Count  Dtype  \n",
      "---  ------                        --------------  -----  \n",
      " 0   Cultivar                      178 non-null    int64  \n",
      " 1   Alcohol                       178 non-null    float64\n",
      " 2   Malic_acid                    178 non-null    float64\n",
      " 3   Ash                           178 non-null    float64\n",
      " 4   Alcalinity_of_ash             178 non-null    float64\n",
      " 5   Magnesium                     178 non-null    int64  \n",
      " 6   Total_phenols                 178 non-null    float64\n",
      " 7   Flavanoids                    178 non-null    float64\n",
      " 8   Nonflavanoid_phenols          178 non-null    float64\n",
      " 9   Proanthocyanins               178 non-null    float64\n",
      " 10  Color_intensity               178 non-null    float64\n",
      " 11  Hue                           178 non-null    float64\n",
      " 12  OD280/OD315_of_diluted_wines  178 non-null    float64\n",
      " 13  Proline                       178 non-null    int64  \n",
      "dtypes: float64(11), int64(3)\n",
      "memory usage: 19.6 KB\n"
     ]
    }
   ],
   "source": [
    "df.info()"
   ]
  },
  {
   "cell_type": "code",
   "execution_count": null,
   "id": "15806691",
   "metadata": {},
   "outputs": [],
   "source": [
    "#we are not good at chemistry but still lets try to analyse the data with some visualisatin tool"
   ]
  },
  {
   "cell_type": "code",
   "execution_count": 66,
   "id": "40c50e1d",
   "metadata": {},
   "outputs": [
    {
     "data": {
      "text/plain": [
       "<AxesSubplot:xlabel='Alcohol', ylabel='Malic_acid'>"
      ]
     },
     "execution_count": 66,
     "metadata": {},
     "output_type": "execute_result"
    },
    {
     "data": {
      "image/png": "[encoded data removed]",
      "text/plain": [
       "<Figure size 432x288 with 1 Axes>"
      ]
     },
     "metadata": {
      "needs_background": "light"
     },
     "output_type": "display_data"
    }
   ],
   "source": [
    "sns.scatterplot(x =\"Alcohol\",y = \"Malic_acid\", data = df, hue = \"Cultivar\",palette=\"Set1\" )\n",
    "# here we can see that cultivar 3 is using both malic acid and alcohol in a high amount compared to 1 and 2"
   ]
  },
  {
   "cell_type": "code",
   "execution_count": 68,
   "id": "c4882616",
   "metadata": {},
   "outputs": [
    {
     "data": {
      "text/plain": [
       "<AxesSubplot:xlabel='Ash', ylabel='Alcalinity_of_ash'>"
      ]
     },
     "execution_count": 68,
     "metadata": {},
     "output_type": "execute_result"
    },
    {
     "data": {
      "image/png": "[encoded data removed]",
      "text/plain": [
       "<Figure size 432x288 with 1 Axes>"
      ]
     },
     "metadata": {
      "needs_background": "light"
     },
     "output_type": "display_data"
    }
   ],
   "source": [
    "sns.scatterplot(x =\"Ash\",y = \"Alcalinity_of_ash\", data = df, hue = \"Cultivar\",palette=\"Set1\" )\n",
    "# here all that cultivators are using the Ash and alcalinity of ash in the same quantity"
   ]
  },
  {
   "cell_type": "code",
   "execution_count": 69,
   "id": "c84079be",
   "metadata": {},
   "outputs": [
    {
     "data": {
      "text/plain": [
       "<AxesSubplot:xlabel='Magnesium', ylabel='Total_phenols'>"
      ]
     },
     "execution_count": 69,
     "metadata": {},
     "output_type": "execute_result"
    },
    {
     "data": {
      "image/png": "[encoded data removed]",
      "text/plain": [
       "<Figure size 432x288 with 1 Axes>"
      ]
     },
     "metadata": {
      "needs_background": "light"
     },
     "output_type": "display_data"
    }
   ],
   "source": [
    "sns.scatterplot(x =\"Magnesium\",y = \"Total_phenols\", data = df, hue = \"Cultivar\",palette=\"Set1\" )\n",
    "#here we can see that all the cultivators are using Magnesium in a low quantity and total phenols \n",
    "#in a high quantity "
   ]
  },
  {
   "cell_type": "code",
   "execution_count": 70,
   "id": "08e177b4",
   "metadata": {},
   "outputs": [
    {
     "data": {
      "text/plain": [
       "<AxesSubplot:xlabel='Flavanoids', ylabel='Nonflavanoid_phenols'>"
      ]
     },
     "execution_count": 70,
     "metadata": {},
     "output_type": "execute_result"
    },
    {
     "data": {
      "image/png": "[encoded data removed]",
      "text/plain": [
       "<Figure size 432x288 with 1 Axes>"
      ]
     },
     "metadata": {
      "needs_background": "light"
     },
     "output_type": "display_data"
    }
   ],
   "source": [
    "sns.scatterplot(x =\"Flavanoids\",y = \"Nonflavanoid_phenols\", data = df, hue = \"Cultivar\",palette=\"Set1\" )\n",
    "\n",
    "#we can see that cultivator 1 is using the flavanoids in a huge quantity and cultivator 1 is using the \n",
    "#nonflavanoid phenols in a huge quantity"
   ]
  },
  {
   "cell_type": "code",
   "execution_count": 73,
   "id": "bd40e479",
   "metadata": {},
   "outputs": [
    {
     "data": {
      "text/plain": [
       "<AxesSubplot:xlabel='Proanthocyanins', ylabel='Hue'>"
      ]
     },
     "execution_count": 73,
     "metadata": {},
     "output_type": "execute_result"
    },
    {
     "data": {
      "image/png": "[encoded data removed]",
      "text/plain": [
       "<Figure size 432x288 with 1 Axes>"
      ]
     },
     "metadata": {
      "needs_background": "light"
     },
     "output_type": "display_data"
    }
   ],
   "source": [
    "sns.scatterplot(x =\"Proanthocyanins\",y = \"Hue\", data = df, hue = \"Cultivar\",palette=\"Set1\" )\n",
    "# here 2 is using a much high level of hue and Proanthocyanins"
   ]
  },
  {
   "cell_type": "code",
   "execution_count": 74,
   "id": "a308b0de",
   "metadata": {},
   "outputs": [
    {
     "data": {
      "text/plain": [
       "<AxesSubplot:xlabel='OD280/OD315_of_diluted_wines', ylabel='Proline'>"
      ]
     },
     "execution_count": 74,
     "metadata": {},
     "output_type": "execute_result"
    },
    {
     "data": {
      "image/png": "[encoded data removed]",
      "text/plain": [
       "<Figure size 432x288 with 1 Axes>"
      ]
     },
     "metadata": {
      "needs_background": "light"
     },
     "output_type": "display_data"
    }
   ],
   "source": [
    "sns.scatterplot(x =\"OD280/OD315_of_diluted_wines\",y = \"Proline\", data = df, hue = \"Cultivar\",palette=\"Set1\")\n",
    "\n",
    "#and finally in this cluster we can that all the 3 cultivators are using diffrent level of OD315_of_diluted_wines \n",
    "#and Proline"
   ]
  },
  {
   "cell_type": "code",
   "execution_count": null,
   "id": "d4cd40b9",
   "metadata": {},
   "outputs": [],
   "source": [
    "#so from the above charts we can see that there are significant diffrence between the 3 wine makers in \n",
    "#adding the the incrediants"
   ]
  },
  {
   "cell_type": "code",
   "execution_count": 12,
   "id": "ecbf7bef",
   "metadata": {},
   "outputs": [],
   "source": [
    "#Now lets Separeate the dependent and independent data from our dataset"
   ]
  },
  {
   "cell_type": "code",
   "execution_count": 13,
   "id": "3d2001f1",
   "metadata": {},
   "outputs": [],
   "source": [
    "x = df.drop(columns = [\"Cultivar\"])\n",
    "y = df[\"Cultivar\"]"
   ]
  },
  {
   "cell_type": "code",
   "execution_count": 14,
   "id": "514ffb71",
   "metadata": {},
   "outputs": [
    {
     "data": {
      "text/html": [
       "<div>\n",
       "<style scoped>\n",
       "    .dataframe tbody tr th:only-of-type {\n",
       "        vertical-align: middle;\n",
       "    }\n",
       "\n",
       "    .dataframe tbody tr th {\n",
       "        vertical-align: top;\n",
       "    }\n",
       "\n",
       "    .dataframe thead th {\n",
       "        text-align: right;\n",
       "    }\n",
       "</style>\n",
       "<table border=\"1\" class=\"dataframe\">\n",
       "  <thead>\n",
       "    <tr style=\"text-align: right;\">\n",
       "      <th></th>\n",
       "      <th>Alcohol</th>\n",
       "      <th>Malic_acid</th>\n",
       "      <th>Ash</th>\n",
       "      <th>Alcalinity_of_ash</th>\n",
       "      <th>Magnesium</th>\n",
       "      <th>Total_phenols</th>\n",
       "      <th>Flavanoids</th>\n",
       "      <th>Nonflavanoid_phenols</th>\n",
       "      <th>Proanthocyanins</th>\n",
       "      <th>Color_intensity</th>\n",
       "      <th>Hue</th>\n",
       "      <th>OD280/OD315_of_diluted_wines</th>\n",
       "      <th>Proline</th>\n",
       "    </tr>\n",
       "  </thead>\n",
       "  <tbody>\n",
       "    <tr>\n",
       "      <th>0</th>\n",
       "      <td>14.23</td>\n",
       "      <td>1.71</td>\n",
       "      <td>2.43</td>\n",
       "      <td>15.6</td>\n",
       "      <td>127</td>\n",
       "      <td>2.80</td>\n",
       "      <td>3.06</td>\n",
       "      <td>0.28</td>\n",
       "      <td>2.29</td>\n",
       "      <td>5.64</td>\n",
       "      <td>1.04</td>\n",
       "      <td>3.92</td>\n",
       "      <td>1065</td>\n",
       "    </tr>\n",
       "    <tr>\n",
       "      <th>1</th>\n",
       "      <td>13.20</td>\n",
       "      <td>1.78</td>\n",
       "      <td>2.14</td>\n",
       "      <td>11.2</td>\n",
       "      <td>100</td>\n",
       "      <td>2.65</td>\n",
       "      <td>2.76</td>\n",
       "      <td>0.26</td>\n",
       "      <td>1.28</td>\n",
       "      <td>4.38</td>\n",
       "      <td>1.05</td>\n",
       "      <td>3.40</td>\n",
       "      <td>1050</td>\n",
       "    </tr>\n",
       "    <tr>\n",
       "      <th>2</th>\n",
       "      <td>13.16</td>\n",
       "      <td>2.36</td>\n",
       "      <td>2.67</td>\n",
       "      <td>18.6</td>\n",
       "      <td>101</td>\n",
       "      <td>2.80</td>\n",
       "      <td>3.24</td>\n",
       "      <td>0.30</td>\n",
       "      <td>2.81</td>\n",
       "      <td>5.68</td>\n",
       "      <td>1.03</td>\n",
       "      <td>3.17</td>\n",
       "      <td>1185</td>\n",
       "    </tr>\n",
       "    <tr>\n",
       "      <th>3</th>\n",
       "      <td>14.37</td>\n",
       "      <td>1.95</td>\n",
       "      <td>2.50</td>\n",
       "      <td>16.8</td>\n",
       "      <td>113</td>\n",
       "      <td>3.85</td>\n",
       "      <td>3.49</td>\n",
       "      <td>0.24</td>\n",
       "      <td>2.18</td>\n",
       "      <td>7.80</td>\n",
       "      <td>0.86</td>\n",
       "      <td>3.45</td>\n",
       "      <td>1480</td>\n",
       "    </tr>\n",
       "    <tr>\n",
       "      <th>4</th>\n",
       "      <td>13.24</td>\n",
       "      <td>2.59</td>\n",
       "      <td>2.87</td>\n",
       "      <td>21.0</td>\n",
       "      <td>118</td>\n",
       "      <td>2.80</td>\n",
       "      <td>2.69</td>\n",
       "      <td>0.39</td>\n",
       "      <td>1.82</td>\n",
       "      <td>4.32</td>\n",
       "      <td>1.04</td>\n",
       "      <td>2.93</td>\n",
       "      <td>735</td>\n",
       "    </tr>\n",
       "  </tbody>\n",
       "</table>\n",
       "</div>"
      ],
      "text/plain": [
       "   Alcohol  Malic_acid   Ash  Alcalinity_of_ash  Magnesium  Total_phenols  \\\n",
       "0    14.23        1.71  2.43               15.6        127           2.80   \n",
       "1    13.20        1.78  2.14               11.2        100           2.65   \n",
       "2    13.16        2.36  2.67               18.6        101           2.80   \n",
       "3    14.37        1.95  2.50               16.8        113           3.85   \n",
       "4    13.24        2.59  2.87               21.0        118           2.80   \n",
       "\n",
       "   Flavanoids  Nonflavanoid_phenols  Proanthocyanins  Color_intensity   Hue  \\\n",
       "0        3.06                  0.28             2.29             5.64  1.04   \n",
       "1        2.76                  0.26             1.28             4.38  1.05   \n",
       "2        3.24                  0.30             2.81             5.68  1.03   \n",
       "3        3.49                  0.24             2.18             7.80  0.86   \n",
       "4        2.69                  0.39             1.82             4.32  1.04   \n",
       "\n",
       "   OD280/OD315_of_diluted_wines  Proline  \n",
       "0                          3.92     1065  \n",
       "1                          3.40     1050  \n",
       "2                          3.17     1185  \n",
       "3                          3.45     1480  \n",
       "4                          2.93      735  "
      ]
     },
     "execution_count": 14,
     "metadata": {},
     "output_type": "execute_result"
    }
   ],
   "source": [
    "x.head()"
   ]
  },
  {
   "cell_type": "code",
   "execution_count": 15,
   "id": "7f976e83",
   "metadata": {},
   "outputs": [
    {
     "data": {
      "text/plain": [
       "0    1\n",
       "1    1\n",
       "2    1\n",
       "3    1\n",
       "4    1\n",
       "Name: Cultivar, dtype: int64"
      ]
     },
     "execution_count": 15,
     "metadata": {},
     "output_type": "execute_result"
    }
   ],
   "source": [
    "y.head()"
   ]
  },
  {
   "cell_type": "code",
   "execution_count": 17,
   "id": "fcde08a7",
   "metadata": {},
   "outputs": [],
   "source": [
    "from sklearn.model_selection import train_test_split"
   ]
  },
  {
   "cell_type": "code",
   "execution_count": 18,
   "id": "81f6533f",
   "metadata": {},
   "outputs": [],
   "source": [
    "x_train,x_test,y_train,y_test = train_test_split(x,y,test_size = 0.1,random_state = 46)"
   ]
  },
  {
   "cell_type": "code",
   "execution_count": 19,
   "id": "9eaea779",
   "metadata": {},
   "outputs": [
    {
     "name": "stdout",
     "output_type": "stream",
     "text": [
      "(160, 13)\n",
      "(18, 13)\n",
      "(160,)\n",
      "(18,)\n"
     ]
    }
   ],
   "source": [
    "print(x_train.shape)\n",
    "print(x_test.shape)\n",
    "print(y_train.shape)\n",
    "print(y_test.shape)"
   ]
  },
  {
   "cell_type": "code",
   "execution_count": 21,
   "id": "2a931443",
   "metadata": {},
   "outputs": [],
   "source": [
    "#Now lets scale our data\n",
    "\n",
    "from sklearn.preprocessing import StandardScaler\n",
    "\n",
    "scaler = StandardScaler()\n",
    "x_train_scaled = scaler.fit_transform(x_train)\n",
    "x_test_scaled = scaler.transform(x_test)"
   ]
  },
  {
   "cell_type": "code",
   "execution_count": 22,
   "id": "08c6f4dc",
   "metadata": {},
   "outputs": [],
   "source": [
    "# Now we are going to import the MLPClassifier "
   ]
  },
  {
   "cell_type": "code",
   "execution_count": 24,
   "id": "6a38546d",
   "metadata": {},
   "outputs": [],
   "source": [
    "from sklearn.neural_network import MLPClassifier"
   ]
  },
  {
   "cell_type": "code",
   "execution_count": 30,
   "id": "4c14ce5a",
   "metadata": {},
   "outputs": [
    {
     "data": {
      "text/plain": [
       "MLPClassifier(hidden_layer_sizes=100, max_iter=1000, random_state=47)"
      ]
     },
     "execution_count": 30,
     "metadata": {},
     "output_type": "execute_result"
    }
   ],
   "source": [
    "#creating the model and training the model\n",
    "#del model\n",
    "model = MLPClassifier(hidden_layer_sizes = 100,activation = \"relu\",random_state = 47,max_iter=1000)\n",
    "model.fit(x_train_scaled,y_train)"
   ]
  },
  {
   "cell_type": "code",
   "execution_count": 31,
   "id": "da88e609",
   "metadata": {},
   "outputs": [],
   "source": [
    "y_pred = model.predict(x_test_scaled)"
   ]
  },
  {
   "cell_type": "code",
   "execution_count": 32,
   "id": "76594f29",
   "metadata": {},
   "outputs": [],
   "source": [
    "#evaluating the result\n",
    "from sklearn.metrics import accuracy_score"
   ]
  },
  {
   "cell_type": "code",
   "execution_count": 35,
   "id": "155a3460",
   "metadata": {},
   "outputs": [
    {
     "data": {
      "text/plain": [
       "94.44444444444444"
      ]
     },
     "execution_count": 35,
     "metadata": {},
     "output_type": "execute_result"
    }
   ],
   "source": [
    "accuracy = accuracy_score(y_test,y_pred)\n",
    "accuracy*100"
   ]
  },
  {
   "cell_type": "code",
   "execution_count": 55,
   "id": "56ffb587",
   "metadata": {},
   "outputs": [
    {
     "name": "stdout",
     "output_type": "stream",
     "text": [
      "layer 0, weights [[-0.25465856  0.16789447  0.02199364 ...  0.06503697  0.2110937\n",
      "   0.1596848 ]\n",
      " [-0.01844077  0.17988688 -0.15975599 ...  0.06507576 -0.07709144\n",
      "   0.13094716]\n",
      " [ 0.03301781  0.1650413  -0.23448762 ... -0.03475716  0.29993248\n",
      "  -0.04490345]\n",
      " ...\n",
      " [-0.06404813  0.00137427 -0.0978263  ...  0.01103081 -0.14566123\n",
      "  -0.02986634]\n",
      " [-0.00881958  0.0433554   0.13298766 ... -0.0366748  -0.04480204\n",
      "   0.13312798]\n",
      " [-0.1644939  -0.05382643  0.02594252 ...  0.27737465  0.0536258\n",
      "   0.01855405]]\n",
      "layer 0, biases [-0.06410168  0.12403559  0.29782756  0.22960271 -0.24091252  0.05984039\n",
      "  0.28700099  0.4571401   0.21085555 -0.0294204   0.10298923 -0.02080766\n",
      "  0.02252481  0.05252422  0.12480271  0.02007284  0.15256957 -0.0369804\n",
      "  0.00497072  0.29549639  0.12428157  0.02760512 -0.07521251  0.18883483\n",
      "  0.13095544  0.18432909  0.01762051  0.08833677  0.29832994  0.02432046\n",
      "  0.19856384  0.23368349 -0.0207578  -0.1711691   0.14001902  0.0298156\n",
      " -0.05683761  0.33427508 -0.01324272  0.09735301  0.03394532  0.09371501\n",
      "  0.02453319 -0.06896702  0.16935183 -0.13885051  0.26052906 -0.05354934\n",
      "  0.05363868  0.27624279 -0.01911725  0.14624879 -0.03427653  0.01591215\n",
      " -0.00964726  0.02849813 -0.20672736 -0.17742975 -0.07811791  0.13997292\n",
      "  0.01399054  0.1447969   0.25108926  0.1149489   0.08732778  0.01528972\n",
      "  0.32016343  0.06336613  0.07207329  0.35897124  0.26523428 -0.03073521\n",
      "  0.07336145 -0.03148433  0.17502018 -0.05206406 -0.01707764 -0.19943951\n",
      "  0.20783929 -0.08279344  0.33927035  0.03960159 -0.09250123  0.02453311\n",
      " -0.08215029 -0.13264575  0.11342712  0.0468128   0.10409472  0.23471639\n",
      "  0.20416621  0.30381371  0.13866847 -0.1472976  -0.17730403  0.17467197\n",
      "  0.15933044  0.32339686  0.13876203  0.13726545]\n",
      "\n",
      "layer 1, weights [[-0.16835159  0.27532086 -0.19914584]\n",
      " [-0.1342999  -0.13598193  0.29586429]\n",
      " [-0.12394534  0.17510723 -0.29917609]\n",
      " [-0.17818225  0.14589568  0.05799558]\n",
      " [-0.21664931 -0.098522    0.19210053]\n",
      " [ 0.11434253 -0.1605037  -0.29552458]\n",
      " [ 0.31637698 -0.28417347 -0.17741091]\n",
      " [ 0.36322509  0.27767817  0.03494281]\n",
      " [-0.12888733  0.28908959 -0.24521294]\n",
      " [ 0.20338345  0.05710641  0.18336529]\n",
      " [ 0.11270014  0.24423067 -0.10637025]\n",
      " [ 0.05852288 -0.1617665  -0.0043052 ]\n",
      " [ 0.04679035  0.07315039  0.10820033]\n",
      " [ 0.17813201 -0.11183472 -0.14982948]\n",
      " [-0.29541815 -0.29873597  0.05221113]\n",
      " [-0.02263621 -0.13419799  0.1177516 ]\n",
      " [ 0.03743367 -0.28895601  0.03814215]\n",
      " [ 0.0850205  -0.06899469 -0.14642275]\n",
      " [-0.19263014  0.29604563 -0.2274138 ]\n",
      " [ 0.05419813  0.30896876 -0.06134883]\n",
      " [ 0.19319514  0.01257324 -0.00573925]\n",
      " [-0.30979839  0.19620731  0.02795011]\n",
      " [-0.23018071 -0.03376354 -0.19002416]\n",
      " [-0.34918605  0.21996703  0.04325545]\n",
      " [-0.04172525  0.248733    0.27059558]\n",
      " [ 0.00592185 -0.04178957  0.16549928]\n",
      " [-0.14841234 -0.18670907  0.17358785]\n",
      " [-0.16627086 -0.30332612  0.27067244]\n",
      " [-0.05192231  0.08013681 -0.18408021]\n",
      " [ 0.0055338   0.20681137 -0.22680986]\n",
      " [-0.16843595 -0.26714734  0.00460245]\n",
      " [-0.12912894  0.30217631 -0.12432265]\n",
      " [-0.07937734  0.40374837 -0.25559825]\n",
      " [-0.21889491 -0.10352602  0.18351991]\n",
      " [ 0.11731544 -0.05415206  0.30705661]\n",
      " [ 0.2342674  -0.07279655 -0.09879773]\n",
      " [-0.15502254 -0.13289459  0.11775353]\n",
      " [-0.14110664 -0.03545091  0.21751545]\n",
      " [-0.08177533  0.21572873 -0.11734949]\n",
      " [ 0.06465726 -0.29809103 -0.19473142]\n",
      " [ 0.29641373 -0.17785102 -0.00939784]\n",
      " [-0.29277172 -0.13902216  0.0200653 ]\n",
      " [-0.08459132  0.29036183 -0.02586931]\n",
      " [-0.26620824  0.0676297  -0.11435662]\n",
      " [ 0.26978045 -0.06786254 -0.06684466]\n",
      " [-0.08174769  0.31069405 -0.20545247]\n",
      " [-0.02188332  0.34485937 -0.3179702 ]\n",
      " [ 0.20844933 -0.1142033  -0.07178882]\n",
      " [-0.11375671  0.11631868  0.02296774]\n",
      " [-0.12864439 -0.08523423  0.15425772]\n",
      " [-0.10007007  0.22428606 -0.07055076]\n",
      " [-0.23383722  0.0537976  -0.22948372]\n",
      " [ 0.01769018  0.35191305 -0.08794936]\n",
      " [ 0.23630315  0.23506239 -0.17103543]\n",
      " [-0.28834614 -0.32814996  0.21365556]\n",
      " [ 0.12065364 -0.14128673 -0.16030513]\n",
      " [-0.05865301  0.20262453  0.0152149 ]\n",
      " [-0.30933472  0.05909073  0.15741291]\n",
      " [-0.14693667  0.09006783 -0.22160414]\n",
      " [ 0.17063111 -0.0254698  -0.26165975]\n",
      " [-0.11548958  0.27589852 -0.20363094]\n",
      " [-0.19622238  0.07954293  0.23120789]\n",
      " [ 0.17563016 -0.13482428  0.32041294]\n",
      " [ 0.28353333  0.04717728 -0.15193862]\n",
      " [ 0.31567933  0.03123742 -0.11867733]\n",
      " [-0.14599905 -0.20942771  0.30601463]\n",
      " [-0.14510082  0.16763941  0.02996316]\n",
      " [ 0.25735836 -0.2350473   0.0302505 ]\n",
      " [-0.28566847  0.15949639  0.17886813]\n",
      " [-0.07727511  0.07563934 -0.35086478]\n",
      " [ 0.3126843  -0.38024985 -0.14133489]\n",
      " [-0.2328538   0.32078222 -0.30558921]\n",
      " [ 0.18242135  0.07334644 -0.26596655]\n",
      " [-0.22182462  0.21486626 -0.02564024]\n",
      " [-0.08338846  0.2790927  -0.27278767]\n",
      " [ 0.09104119 -0.05778127  0.24831431]\n",
      " [ 0.00477253  0.36782148 -0.15085337]\n",
      " [ 0.15468173 -0.04399884  0.13757302]\n",
      " [ 0.11391557  0.12932376 -0.26524244]\n",
      " [-0.12966626 -0.23873275  0.32607727]\n",
      " [ 0.01308233 -0.33519377 -0.09374903]\n",
      " [ 0.17666017  0.11202654 -0.23993063]\n",
      " [-0.11450864  0.31765422 -0.1408732 ]\n",
      " [ 0.18781915  0.03040457 -0.10233171]\n",
      " [-0.033557   -0.08471996 -0.17923896]\n",
      " [ 0.12760086  0.02411518  0.18816874]\n",
      " [-0.00074024  0.04214337  0.15187162]\n",
      " [-0.33203661 -0.19212119  0.10547505]\n",
      " [-0.02887532  0.20995347 -0.14259325]\n",
      " [-0.04756798 -0.22409112  0.2791773 ]\n",
      " [ 0.11028556 -0.15488456  0.13910539]\n",
      " [-0.11635584  0.1522393   0.11265335]\n",
      " [-0.15276187 -0.32683532  0.03285958]\n",
      " [-0.4441057  -0.08842014 -0.16873296]\n",
      " [-0.10579546  0.33883631  0.06591647]\n",
      " [-0.18006317  0.30618481  0.02399532]\n",
      " [-0.18692481  0.09338004  0.02860989]\n",
      " [ 0.20007776 -0.36072457 -0.31730749]\n",
      " [ 0.13414916 -0.27262456  0.21051211]\n",
      " [ 0.36622433 -0.25967964 -0.31495734]]\n",
      "layer 1, biases [ 0.11647786 -0.14680344  0.00290924]\n",
      "\n"
     ]
    }
   ],
   "source": [
    "# extracting the MLP weights and biases\n",
    "for p,q in enumerate(model.coefs_):\n",
    "    print(f\"layer {p}, weights {q}\" )\n",
    "    print(f\"layer {p}, biases {model.intercepts_[p]}\")\n",
    "    print(\"\")"
   ]
  },
  {
   "cell_type": "code",
   "execution_count": null,
   "id": "25adbff4",
   "metadata": {},
   "outputs": [],
   "source": []
  },
  {
   "cell_type": "code",
   "execution_count": null,
   "id": "221a9149",
   "metadata": {},
   "outputs": [],
   "source": []
  },
  {
   "cell_type": "code",
   "execution_count": null,
   "id": "313872a5",
   "metadata": {},
   "outputs": [],
   "source": []
  },
  {
   "cell_type": "code",
   "execution_count": null,
   "id": "874a1a9b",
   "metadata": {},
   "outputs": [],
   "source": []
  }
 ],
 "metadata": {
  "kernelspec": {
   "display_name": "Python 3 (ipykernel)",
   "language": "python",
   "name": "python3"
  },
  "language_info": {
   "codemirror_mode": {
    "name": "ipython",
    "version": 3
   },
   "file_extension": ".py",
   "mimetype": "text/x-python",
   "name": "python",
   "nbconvert_exporter": "python",
   "pygments_lexer": "ipython3",
   "version": "3.9.12"
  }
 },
 "nbformat": 4,
 "nbformat_minor": 5
}
