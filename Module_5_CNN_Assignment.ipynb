{
 "cells": [
  {
   "cell_type": "markdown",
   "id": "cdcb7b78",
   "metadata": {},
   "source": [
    "# Module 5: CNN Assignment"
   ]
  },
  {
   "cell_type": "code",
   "execution_count": 1,
   "id": "f5d6b8ca",
   "metadata": {},
   "outputs": [],
   "source": [
    "# Tasks to be Done:\n",
    "\n",
    "# Using MNIST Dataset try to buildyourConvolutional Neural Network: \n",
    "\n",
    "# A. Do some necessary importslike: \n",
    "# a. Download the MNIST dataset through Keras \n",
    "# b. Import a sequential model \n",
    "# c. Import the convolution and pooling layers \n",
    "# d. Import dense layers, dropout layer, and the flatten layer \n",
    "# e. Import numpy \n",
    "\n",
    "# B. Fit the dataset to a model, i.e. train the model for 12 epochs. \n",
    "# a. After training the model,evaluate the loss and accuracy of the model on the test \n",
    "# data and print it."
   ]
  },
  {
   "cell_type": "code",
   "execution_count": 2,
   "id": "931a6d8f",
   "metadata": {},
   "outputs": [],
   "source": [
    "import numpy as np\n",
    "import pandas as pd\n",
    "import matplotlib.pyplot as plt\n",
    "import tensorflow as tf"
   ]
  },
  {
   "cell_type": "code",
   "execution_count": 3,
   "id": "d70902cb",
   "metadata": {},
   "outputs": [],
   "source": [
    "#Loading mnist Dataset\n",
    "(x_train,y_train),(x_test,y_test) = tf.keras.datasets.mnist.load_data()"
   ]
  },
  {
   "cell_type": "code",
   "execution_count": 4,
   "id": "58bb6a19",
   "metadata": {},
   "outputs": [
    {
     "data": {
      "text/plain": [
       "(60000, 28, 28)"
      ]
     },
     "execution_count": 4,
     "metadata": {},
     "output_type": "execute_result"
    }
   ],
   "source": [
    "x_train.shape"
   ]
  },
  {
   "cell_type": "code",
   "execution_count": 5,
   "id": "bfd15159",
   "metadata": {},
   "outputs": [
    {
     "data": {
      "text/plain": [
       "(28, 28)"
      ]
     },
     "execution_count": 5,
     "metadata": {},
     "output_type": "execute_result"
    }
   ],
   "source": [
    "x_train[30].shape"
   ]
  },
  {
   "cell_type": "code",
   "execution_count": 6,
   "id": "87c1538c",
   "metadata": {},
   "outputs": [],
   "source": [
    "#scaling the train and test data"
   ]
  },
  {
   "cell_type": "code",
   "execution_count": 7,
   "id": "27b8c2ec",
   "metadata": {},
   "outputs": [],
   "source": [
    "x_train = x_train/255.0"
   ]
  },
  {
   "cell_type": "code",
   "execution_count": 8,
   "id": "e04e3def",
   "metadata": {},
   "outputs": [],
   "source": [
    "x_test = x_test/255.0"
   ]
  },
  {
   "cell_type": "code",
   "execution_count": 9,
   "id": "dbe2990e",
   "metadata": {},
   "outputs": [
    {
     "data": {
      "text/plain": [
       "(28, 28)"
      ]
     },
     "execution_count": 9,
     "metadata": {},
     "output_type": "execute_result"
    }
   ],
   "source": [
    "x_train[30].shape"
   ]
  },
  {
   "cell_type": "code",
   "execution_count": 10,
   "id": "130f8703",
   "metadata": {},
   "outputs": [],
   "source": [
    "# Reshape the input data to be 4D (batch_size, height, width, channels)\n",
    "x_train = np.expand_dims(x_train, axis=-1)\n",
    "x_test = np.expand_dims(x_test, axis=-1)"
   ]
  },
  {
   "cell_type": "code",
   "execution_count": 11,
   "id": "3e9e2320",
   "metadata": {},
   "outputs": [],
   "source": [
    "#lets now check a sample image"
   ]
  },
  {
   "cell_type": "code",
   "execution_count": 12,
   "id": "282471ea",
   "metadata": {
    "scrolled": true
   },
   "outputs": [
    {
     "data": {
      "text/plain": [
       "<matplotlib.image.AxesImage at 0x276541775b0>"
      ]
     },
     "execution_count": 12,
     "metadata": {},
     "output_type": "execute_result"
    },
    {
     "data": {
      "image/png": "[encoded data removed]",
      "text/plain": [
       "<Figure size 432x288 with 1 Axes>"
      ]
     },
     "metadata": {
      "needs_background": "light"
     },
     "output_type": "display_data"
    }
   ],
   "source": [
    "plt.imshow(x_train[30])"
   ]
  },
  {
   "cell_type": "code",
   "execution_count": 13,
   "id": "940baa00",
   "metadata": {},
   "outputs": [],
   "source": [
    "#changing the dependent data to categorical"
   ]
  },
  {
   "cell_type": "code",
   "execution_count": 14,
   "id": "4425b8d3",
   "metadata": {},
   "outputs": [],
   "source": [
    "y_train = tf.keras.utils.to_categorical(y_train)"
   ]
  },
  {
   "cell_type": "code",
   "execution_count": 15,
   "id": "2778c16b",
   "metadata": {},
   "outputs": [],
   "source": [
    "y_test = tf.keras.utils.to_categorical(y_test)"
   ]
  },
  {
   "cell_type": "code",
   "execution_count": 16,
   "id": "2f9af754",
   "metadata": {},
   "outputs": [],
   "source": [
    "#creating the first model"
   ]
  },
  {
   "cell_type": "code",
   "execution_count": 17,
   "id": "e309ec31",
   "metadata": {},
   "outputs": [],
   "source": [
    "#del model\n",
    "model = tf.keras.models.Sequential()\n",
    "\n",
    "#input layer\n",
    "model.add(tf.keras.Input((28,28,1),name = \"Input_Layer\"))\n",
    "\n",
    "#chunk1\n",
    "#conv +activation\n",
    "model.add(tf.keras.layers.Conv2D(filters = 16,kernel_size = (3,3),strides = (1,1),\n",
    "                                 padding = \"valid\",activation = \"relu\",name = \"conv1\"))\n",
    "model.add(tf.keras.layers.MaxPooling2D(pool_size = (2,2), name = \"Pool1\"))\n",
    "\n",
    "#chunk2\n",
    "#conv +activation\n",
    "model.add(tf.keras.layers.Conv2D(filters = 32,kernel_size = (3,3),strides = (1,1),\n",
    "                                 padding = \"valid\",activation = \"relu\",name = \"conv2\"))\n",
    "model.add(tf.keras.layers.MaxPooling2D(pool_size = (2,2), name = \"Pool2\"))\n",
    "\n",
    "#chunk2\n",
    "#conv +activation\n",
    "model.add(tf.keras.layers.Conv2D(filters = 64,kernel_size = (3,3),strides = (1,1),\n",
    "                                 padding = \"valid\",activation = \"relu\",name = \"conv3\"))\n",
    "model.add(tf.keras.layers.MaxPooling2D(pool_size = (2,2), name = \"Pool3\"))\n",
    "\n",
    "#cat_layers\n",
    "model.add(tf.keras.layers.Flatten(name = \"flatten_layer\"))\n",
    "model.add(tf.keras.layers.Dense(100,activation = \"relu\",name = \"Dense1\"))\n",
    "model.add(tf.keras.layers.Dense(100,activation = \"relu\",name = \"Dense2\"))\n",
    "model.add(tf.keras.layers.Dense(10,activation = \"softmax\",name = \"output_layer\" ))"
   ]
  },
  {
   "cell_type": "code",
   "execution_count": 18,
   "id": "04f7ccdf",
   "metadata": {
    "scrolled": true
   },
   "outputs": [
    {
     "name": "stdout",
     "output_type": "stream",
     "text": [
      "Model: \"sequential\"\n",
      "_________________________________________________________________\n",
      " Layer (type)                Output Shape              Param #   \n",
      "=================================================================\n",
      " conv1 (Conv2D)              (None, 26, 26, 16)        160       \n",
      "                                                                 \n",
      " Pool1 (MaxPooling2D)        (None, 13, 13, 16)        0         \n",
      "                                                                 \n",
      " conv2 (Conv2D)              (None, 11, 11, 32)        4640      \n",
      "                                                                 \n",
      " Pool2 (MaxPooling2D)        (None, 5, 5, 32)          0         \n",
      "                                                                 \n",
      " conv3 (Conv2D)              (None, 3, 3, 64)          18496     \n",
      "                                                                 \n",
      " Pool3 (MaxPooling2D)        (None, 1, 1, 64)          0         \n",
      "                                                                 \n",
      " flatten_layer (Flatten)     (None, 64)                0         \n",
      "                                                                 \n",
      " Dense1 (Dense)              (None, 100)               6500      \n",
      "                                                                 \n",
      " Dense2 (Dense)              (None, 100)               10100     \n",
      "                                                                 \n",
      " output_layer (Dense)        (None, 10)                1010      \n",
      "                                                                 \n",
      "=================================================================\n",
      "Total params: 40,906\n",
      "Trainable params: 40,906\n",
      "Non-trainable params: 0\n",
      "_________________________________________________________________\n"
     ]
    }
   ],
   "source": [
    "model.summary()"
   ]
  },
  {
   "cell_type": "code",
   "execution_count": 19,
   "id": "50f59633",
   "metadata": {
    "scrolled": true
   },
   "outputs": [
    {
     "name": "stdout",
     "output_type": "stream",
     "text": [
      "Epoch 1/12\n",
      "1875/1875 [==============================] - 50s 26ms/step - loss: 1.0662 - acc: 0.6620 - val_loss: 0.3051 - val_acc: 0.9006\n",
      "Epoch 2/12\n",
      "1875/1875 [==============================] - 46s 25ms/step - loss: 0.2160 - acc: 0.9328 - val_loss: 0.1611 - val_acc: 0.9498\n",
      "Epoch 3/12\n",
      "1875/1875 [==============================] - 44s 24ms/step - loss: 0.1479 - acc: 0.9539 - val_loss: 0.1335 - val_acc: 0.9590\n",
      "Epoch 4/12\n",
      "1875/1875 [==============================] - 41s 22ms/step - loss: 0.1198 - acc: 0.9622 - val_loss: 0.1175 - val_acc: 0.9639\n",
      "Epoch 5/12\n",
      "1875/1875 [==============================] - 40s 21ms/step - loss: 0.1014 - acc: 0.9683 - val_loss: 0.0956 - val_acc: 0.9706\n",
      "Epoch 6/12\n",
      "1875/1875 [==============================] - 43s 23ms/step - loss: 0.0904 - acc: 0.9718 - val_loss: 0.0832 - val_acc: 0.9730\n",
      "Epoch 7/12\n",
      "1875/1875 [==============================] - 41s 22ms/step - loss: 0.0806 - acc: 0.9749 - val_loss: 0.1250 - val_acc: 0.9626\n",
      "Epoch 8/12\n",
      "1875/1875 [==============================] - 41s 22ms/step - loss: 0.0745 - acc: 0.9768 - val_loss: 0.0895 - val_acc: 0.9741\n",
      "Epoch 9/12\n",
      "1875/1875 [==============================] - 42s 22ms/step - loss: 0.0680 - acc: 0.9785 - val_loss: 0.0921 - val_acc: 0.9708\n",
      "Epoch 10/12\n",
      "1875/1875 [==============================] - 42s 22ms/step - loss: 0.0628 - acc: 0.9804 - val_loss: 0.0984 - val_acc: 0.9677\n",
      "Epoch 11/12\n",
      "1875/1875 [==============================] - 41s 22ms/step - loss: 0.0578 - acc: 0.9820 - val_loss: 0.0654 - val_acc: 0.9809\n",
      "Epoch 12/12\n",
      "1875/1875 [==============================] - 41s 22ms/step - loss: 0.0544 - acc: 0.9830 - val_loss: 0.0705 - val_acc: 0.9784\n"
     ]
    }
   ],
   "source": [
    "model.compile(optimizer = tf.keras.optimizers.SGD(learning_rate = 0.01),loss = tf.keras.losses.categorical_crossentropy,\n",
    "             metrics = [\"acc\"])\n",
    "\n",
    "model_history = model.fit(x = x_train,y = y_train,batch_size = 32,epochs = 12,validation_data=(x_test, y_test))"
   ]
  },
  {
   "cell_type": "code",
   "execution_count": 20,
   "id": "4410cf1d",
   "metadata": {},
   "outputs": [],
   "source": [
    "#creating the second model"
   ]
  },
  {
   "cell_type": "code",
   "execution_count": 21,
   "id": "095df4ad",
   "metadata": {},
   "outputs": [],
   "source": [
    "#del model2\n",
    "model2 = tf.keras.models.Sequential()\n",
    "\n",
    "#input layer\n",
    "model2.add(tf.keras.Input((28,28,1),name = \"Input_Layer\"))\n",
    "\n",
    "#chunk1\n",
    "#conv +activation\n",
    "model2.add(tf.keras.layers.Conv2D(filters = 16,kernel_size = (3,3),strides = (1,1),\n",
    "                                 padding = \"valid\",activation = \"relu\",name = \"conv1\"))\n",
    "model2.add(tf.keras.layers.MaxPooling2D(pool_size = (2,2), name = \"Pool1\"))\n",
    "\n",
    "#chunk2\n",
    "#conv +activation\n",
    "model2.add(tf.keras.layers.Conv2D(filters = 32,kernel_size = (3,3),strides = (1,1),\n",
    "                                 padding = \"valid\",activation = \"relu\",name = \"conv2\"))\n",
    "model2.add(tf.keras.layers.MaxPooling2D(pool_size = (2,2), name = \"Pool2\"))\n",
    "\n",
    "#chunk2\n",
    "#conv +activation\n",
    "model2.add(tf.keras.layers.Conv2D(filters = 64,kernel_size = (3,3),strides = (1,1),\n",
    "                                 padding = \"valid\",activation = \"relu\",name = \"conv3\"))\n",
    "model2.add(tf.keras.layers.MaxPooling2D(pool_size = (2,2), name = \"Pool3\"))\n",
    "\n",
    "#cat_layers\n",
    "model2.add(tf.keras.layers.Flatten(name = \"flatten_layer\"))\n",
    "model2.add(tf.keras.layers.Dense(100,activation = \"relu\",name = \"Dense1\"))\n",
    "model2.add(tf.keras.layers.Dense(100,activation = \"relu\",name = \"Dense2\"))\n",
    "model2.add(tf.keras.layers.Dense(10,activation = \"softmax\",name = \"output_layer\" ))"
   ]
  },
  {
   "cell_type": "code",
   "execution_count": 22,
   "id": "23633282",
   "metadata": {},
   "outputs": [
    {
     "name": "stdout",
     "output_type": "stream",
     "text": [
      "Model: \"sequential_1\"\n",
      "_________________________________________________________________\n",
      " Layer (type)                Output Shape              Param #   \n",
      "=================================================================\n",
      " conv1 (Conv2D)              (None, 26, 26, 16)        160       \n",
      "                                                                 \n",
      " Pool1 (MaxPooling2D)        (None, 13, 13, 16)        0         \n",
      "                                                                 \n",
      " conv2 (Conv2D)              (None, 11, 11, 32)        4640      \n",
      "                                                                 \n",
      " Pool2 (MaxPooling2D)        (None, 5, 5, 32)          0         \n",
      "                                                                 \n",
      " conv3 (Conv2D)              (None, 3, 3, 64)          18496     \n",
      "                                                                 \n",
      " Pool3 (MaxPooling2D)        (None, 1, 1, 64)          0         \n",
      "                                                                 \n",
      " flatten_layer (Flatten)     (None, 64)                0         \n",
      "                                                                 \n",
      " Dense1 (Dense)              (None, 100)               6500      \n",
      "                                                                 \n",
      " Dense2 (Dense)              (None, 100)               10100     \n",
      "                                                                 \n",
      " output_layer (Dense)        (None, 10)                1010      \n",
      "                                                                 \n",
      "=================================================================\n",
      "Total params: 40,906\n",
      "Trainable params: 40,906\n",
      "Non-trainable params: 0\n",
      "_________________________________________________________________\n"
     ]
    }
   ],
   "source": [
    "model2.summary()"
   ]
  },
  {
   "cell_type": "code",
   "execution_count": 23,
   "id": "ef6615b7",
   "metadata": {},
   "outputs": [
    {
     "name": "stdout",
     "output_type": "stream",
     "text": [
      "Epoch 1/12\n",
      "1875/1875 [==============================] - 42s 22ms/step - loss: 0.0510 - acc: 0.9837 - val_loss: 0.0707 - val_acc: 0.9792\n",
      "Epoch 2/12\n",
      "1875/1875 [==============================] - 45s 24ms/step - loss: 0.0480 - acc: 0.9844 - val_loss: 0.0623 - val_acc: 0.9826\n",
      "Epoch 3/12\n",
      "1875/1875 [==============================] - 42s 22ms/step - loss: 0.0445 - acc: 0.9859 - val_loss: 0.0599 - val_acc: 0.9824\n",
      "Epoch 4/12\n",
      "1875/1875 [==============================] - 43s 23ms/step - loss: 0.0419 - acc: 0.9868 - val_loss: 0.0707 - val_acc: 0.9798\n",
      "Epoch 5/12\n",
      "1875/1875 [==============================] - 45s 24ms/step - loss: 0.0394 - acc: 0.9875 - val_loss: 0.0608 - val_acc: 0.9831\n",
      "Epoch 6/12\n",
      "1875/1875 [==============================] - 42s 22ms/step - loss: 0.0376 - acc: 0.9884 - val_loss: 0.0682 - val_acc: 0.9804\n",
      "Epoch 7/12\n",
      "1875/1875 [==============================] - 41s 22ms/step - loss: 0.0350 - acc: 0.9893 - val_loss: 0.0575 - val_acc: 0.9837\n",
      "Epoch 8/12\n",
      "1875/1875 [==============================] - 41s 22ms/step - loss: 0.0334 - acc: 0.9895 - val_loss: 0.0601 - val_acc: 0.9830\n",
      "Epoch 9/12\n",
      "1875/1875 [==============================] - 41s 22ms/step - loss: 0.0312 - acc: 0.9899 - val_loss: 0.0668 - val_acc: 0.9819\n",
      "Epoch 10/12\n",
      "1875/1875 [==============================] - 41s 22ms/step - loss: 0.0303 - acc: 0.9905 - val_loss: 0.0614 - val_acc: 0.9832\n",
      "Epoch 11/12\n",
      "1875/1875 [==============================] - 41s 22ms/step - loss: 0.0289 - acc: 0.9907 - val_loss: 0.0725 - val_acc: 0.9804\n",
      "Epoch 12/12\n",
      "1875/1875 [==============================] - 42s 23ms/step - loss: 0.0271 - acc: 0.9911 - val_loss: 0.0611 - val_acc: 0.9829\n"
     ]
    }
   ],
   "source": [
    "model2.compile(optimizer = tf.keras.optimizers.Adam(learning_rate = 0.01),loss = tf.keras.losses.categorical_crossentropy,\n",
    "             metrics = [\"acc\"])\n",
    "\n",
    "model2_history = model.fit(x = x_train,y = y_train,batch_size = 32,epochs = 12,validation_data=(x_test, y_test))"
   ]
  },
  {
   "cell_type": "code",
   "execution_count": 25,
   "id": "fa752d4f",
   "metadata": {},
   "outputs": [],
   "source": [
    "#so here we can see that our model2 with Adam optimizer have give a better test_accuracy score compared to our model1\n",
    "#thus we will be going forward with this model2"
   ]
  },
  {
   "cell_type": "code",
   "execution_count": 31,
   "id": "7ab9e656",
   "metadata": {},
   "outputs": [
    {
     "data": {
      "text/plain": [
       "dict_keys(['loss', 'acc', 'val_loss', 'val_acc'])"
      ]
     },
     "execution_count": 31,
     "metadata": {},
     "output_type": "execute_result"
    }
   ],
   "source": [
    "model_history.history.keys()"
   ]
  },
  {
   "cell_type": "code",
   "execution_count": 41,
   "id": "3458b594",
   "metadata": {},
   "outputs": [
    {
     "data": {
      "text/plain": [
       "[1.0661637783050537,\n",
       " 0.21599596738815308,\n",
       " 0.14785759150981903,\n",
       " 0.11977589875459671,\n",
       " 0.10137258470058441,\n",
       " 0.09040531516075134,\n",
       " 0.0805841013789177,\n",
       " 0.07453694939613342,\n",
       " 0.06799924373626709,\n",
       " 0.06281392276287079,\n",
       " 0.05783030018210411,\n",
       " 0.05437297746539116]"
      ]
     },
     "execution_count": 41,
     "metadata": {},
     "output_type": "execute_result"
    }
   ],
   "source": [
    "model_history.history[\"loss\"]"
   ]
  },
  {
   "cell_type": "code",
   "execution_count": 42,
   "id": "385015b2",
   "metadata": {},
   "outputs": [],
   "source": [
    "mod1 = pd.DataFrame()\n",
    "mod1[\"Train_loss\"] = model_history.history[\"loss\"]\n",
    "mod1[\"Test_loss\"] = model_history.history[\"val_loss\"]\n",
    "mod1[\"Train_Accuracy\"] = model_history.history[\"acc\"]\n",
    "mod1[\"Test_Accuracy\"] = model_history.history[\"val_acc\"]"
   ]
  },
  {
   "cell_type": "code",
   "execution_count": 43,
   "id": "0877fa37",
   "metadata": {},
   "outputs": [
    {
     "data": {
      "text/html": [
       "<div>\n",
       "<style scoped>\n",
       "    .dataframe tbody tr th:only-of-type {\n",
       "        vertical-align: middle;\n",
       "    }\n",
       "\n",
       "    .dataframe tbody tr th {\n",
       "        vertical-align: top;\n",
       "    }\n",
       "\n",
       "    .dataframe thead th {\n",
       "        text-align: right;\n",
       "    }\n",
       "</style>\n",
       "<table border=\"1\" class=\"dataframe\">\n",
       "  <thead>\n",
       "    <tr style=\"text-align: right;\">\n",
       "      <th></th>\n",
       "      <th>Train_loss</th>\n",
       "      <th>Test_loss</th>\n",
       "      <th>Train_Accuracy</th>\n",
       "      <th>Test_Accuracy</th>\n",
       "    </tr>\n",
       "  </thead>\n",
       "  <tbody>\n",
       "    <tr>\n",
       "      <th>0</th>\n",
       "      <td>1.066164</td>\n",
       "      <td>0.305148</td>\n",
       "      <td>0.661983</td>\n",
       "      <td>0.9006</td>\n",
       "    </tr>\n",
       "    <tr>\n",
       "      <th>1</th>\n",
       "      <td>0.215996</td>\n",
       "      <td>0.161068</td>\n",
       "      <td>0.932767</td>\n",
       "      <td>0.9498</td>\n",
       "    </tr>\n",
       "    <tr>\n",
       "      <th>2</th>\n",
       "      <td>0.147858</td>\n",
       "      <td>0.133464</td>\n",
       "      <td>0.953917</td>\n",
       "      <td>0.9590</td>\n",
       "    </tr>\n",
       "    <tr>\n",
       "      <th>3</th>\n",
       "      <td>0.119776</td>\n",
       "      <td>0.117464</td>\n",
       "      <td>0.962183</td>\n",
       "      <td>0.9639</td>\n",
       "    </tr>\n",
       "    <tr>\n",
       "      <th>4</th>\n",
       "      <td>0.101373</td>\n",
       "      <td>0.095621</td>\n",
       "      <td>0.968350</td>\n",
       "      <td>0.9706</td>\n",
       "    </tr>\n",
       "    <tr>\n",
       "      <th>5</th>\n",
       "      <td>0.090405</td>\n",
       "      <td>0.083236</td>\n",
       "      <td>0.971750</td>\n",
       "      <td>0.9730</td>\n",
       "    </tr>\n",
       "    <tr>\n",
       "      <th>6</th>\n",
       "      <td>0.080584</td>\n",
       "      <td>0.124990</td>\n",
       "      <td>0.974883</td>\n",
       "      <td>0.9626</td>\n",
       "    </tr>\n",
       "    <tr>\n",
       "      <th>7</th>\n",
       "      <td>0.074537</td>\n",
       "      <td>0.089549</td>\n",
       "      <td>0.976767</td>\n",
       "      <td>0.9741</td>\n",
       "    </tr>\n",
       "    <tr>\n",
       "      <th>8</th>\n",
       "      <td>0.067999</td>\n",
       "      <td>0.092081</td>\n",
       "      <td>0.978533</td>\n",
       "      <td>0.9708</td>\n",
       "    </tr>\n",
       "    <tr>\n",
       "      <th>9</th>\n",
       "      <td>0.062814</td>\n",
       "      <td>0.098416</td>\n",
       "      <td>0.980350</td>\n",
       "      <td>0.9677</td>\n",
       "    </tr>\n",
       "    <tr>\n",
       "      <th>10</th>\n",
       "      <td>0.057830</td>\n",
       "      <td>0.065397</td>\n",
       "      <td>0.981983</td>\n",
       "      <td>0.9809</td>\n",
       "    </tr>\n",
       "    <tr>\n",
       "      <th>11</th>\n",
       "      <td>0.054373</td>\n",
       "      <td>0.070490</td>\n",
       "      <td>0.983033</td>\n",
       "      <td>0.9784</td>\n",
       "    </tr>\n",
       "  </tbody>\n",
       "</table>\n",
       "</div>"
      ],
      "text/plain": [
       "    Train_loss  Test_loss  Train_Accuracy  Test_Accuracy\n",
       "0     1.066164   0.305148        0.661983         0.9006\n",
       "1     0.215996   0.161068        0.932767         0.9498\n",
       "2     0.147858   0.133464        0.953917         0.9590\n",
       "3     0.119776   0.117464        0.962183         0.9639\n",
       "4     0.101373   0.095621        0.968350         0.9706\n",
       "5     0.090405   0.083236        0.971750         0.9730\n",
       "6     0.080584   0.124990        0.974883         0.9626\n",
       "7     0.074537   0.089549        0.976767         0.9741\n",
       "8     0.067999   0.092081        0.978533         0.9708\n",
       "9     0.062814   0.098416        0.980350         0.9677\n",
       "10    0.057830   0.065397        0.981983         0.9809\n",
       "11    0.054373   0.070490        0.983033         0.9784"
      ]
     },
     "execution_count": 43,
     "metadata": {},
     "output_type": "execute_result"
    }
   ],
   "source": [
    "mod1"
   ]
  },
  {
   "cell_type": "code",
   "execution_count": 44,
   "id": "3e717517",
   "metadata": {},
   "outputs": [],
   "source": [
    "mod2 = pd.DataFrame()\n",
    "mod2[\"Train_loss\"] = model2_history.history[\"loss\"]\n",
    "mod2[\"Test_loss\"] = model2_history.history[\"val_loss\"]\n",
    "mod2[\"Train_Accuracy\"] = model2_history.history[\"acc\"]\n",
    "mod2[\"Test_Accuracy\"] = model2_history.history[\"val_acc\"]"
   ]
  },
  {
   "cell_type": "code",
   "execution_count": 45,
   "id": "f322d6eb",
   "metadata": {},
   "outputs": [
    {
     "data": {
      "text/html": [
       "<div>\n",
       "<style scoped>\n",
       "    .dataframe tbody tr th:only-of-type {\n",
       "        vertical-align: middle;\n",
       "    }\n",
       "\n",
       "    .dataframe tbody tr th {\n",
       "        vertical-align: top;\n",
       "    }\n",
       "\n",
       "    .dataframe thead th {\n",
       "        text-align: right;\n",
       "    }\n",
       "</style>\n",
       "<table border=\"1\" class=\"dataframe\">\n",
       "  <thead>\n",
       "    <tr style=\"text-align: right;\">\n",
       "      <th></th>\n",
       "      <th>Train_loss</th>\n",
       "      <th>Test_loss</th>\n",
       "      <th>Train_Accuracy</th>\n",
       "      <th>Test_Accuracy</th>\n",
       "    </tr>\n",
       "  </thead>\n",
       "  <tbody>\n",
       "    <tr>\n",
       "      <th>0</th>\n",
       "      <td>0.050991</td>\n",
       "      <td>0.070678</td>\n",
       "      <td>0.983733</td>\n",
       "      <td>0.9792</td>\n",
       "    </tr>\n",
       "    <tr>\n",
       "      <th>1</th>\n",
       "      <td>0.048004</td>\n",
       "      <td>0.062295</td>\n",
       "      <td>0.984400</td>\n",
       "      <td>0.9826</td>\n",
       "    </tr>\n",
       "    <tr>\n",
       "      <th>2</th>\n",
       "      <td>0.044469</td>\n",
       "      <td>0.059874</td>\n",
       "      <td>0.985867</td>\n",
       "      <td>0.9824</td>\n",
       "    </tr>\n",
       "    <tr>\n",
       "      <th>3</th>\n",
       "      <td>0.041903</td>\n",
       "      <td>0.070728</td>\n",
       "      <td>0.986833</td>\n",
       "      <td>0.9798</td>\n",
       "    </tr>\n",
       "    <tr>\n",
       "      <th>4</th>\n",
       "      <td>0.039417</td>\n",
       "      <td>0.060808</td>\n",
       "      <td>0.987483</td>\n",
       "      <td>0.9831</td>\n",
       "    </tr>\n",
       "    <tr>\n",
       "      <th>5</th>\n",
       "      <td>0.037591</td>\n",
       "      <td>0.068245</td>\n",
       "      <td>0.988417</td>\n",
       "      <td>0.9804</td>\n",
       "    </tr>\n",
       "    <tr>\n",
       "      <th>6</th>\n",
       "      <td>0.034979</td>\n",
       "      <td>0.057505</td>\n",
       "      <td>0.989300</td>\n",
       "      <td>0.9837</td>\n",
       "    </tr>\n",
       "    <tr>\n",
       "      <th>7</th>\n",
       "      <td>0.033440</td>\n",
       "      <td>0.060144</td>\n",
       "      <td>0.989550</td>\n",
       "      <td>0.9830</td>\n",
       "    </tr>\n",
       "    <tr>\n",
       "      <th>8</th>\n",
       "      <td>0.031207</td>\n",
       "      <td>0.066816</td>\n",
       "      <td>0.989917</td>\n",
       "      <td>0.9819</td>\n",
       "    </tr>\n",
       "    <tr>\n",
       "      <th>9</th>\n",
       "      <td>0.030288</td>\n",
       "      <td>0.061375</td>\n",
       "      <td>0.990533</td>\n",
       "      <td>0.9832</td>\n",
       "    </tr>\n",
       "    <tr>\n",
       "      <th>10</th>\n",
       "      <td>0.028947</td>\n",
       "      <td>0.072463</td>\n",
       "      <td>0.990700</td>\n",
       "      <td>0.9804</td>\n",
       "    </tr>\n",
       "    <tr>\n",
       "      <th>11</th>\n",
       "      <td>0.027076</td>\n",
       "      <td>0.061065</td>\n",
       "      <td>0.991133</td>\n",
       "      <td>0.9829</td>\n",
       "    </tr>\n",
       "  </tbody>\n",
       "</table>\n",
       "</div>"
      ],
      "text/plain": [
       "    Train_loss  Test_loss  Train_Accuracy  Test_Accuracy\n",
       "0     0.050991   0.070678        0.983733         0.9792\n",
       "1     0.048004   0.062295        0.984400         0.9826\n",
       "2     0.044469   0.059874        0.985867         0.9824\n",
       "3     0.041903   0.070728        0.986833         0.9798\n",
       "4     0.039417   0.060808        0.987483         0.9831\n",
       "5     0.037591   0.068245        0.988417         0.9804\n",
       "6     0.034979   0.057505        0.989300         0.9837\n",
       "7     0.033440   0.060144        0.989550         0.9830\n",
       "8     0.031207   0.066816        0.989917         0.9819\n",
       "9     0.030288   0.061375        0.990533         0.9832\n",
       "10    0.028947   0.072463        0.990700         0.9804\n",
       "11    0.027076   0.061065        0.991133         0.9829"
      ]
     },
     "execution_count": 45,
     "metadata": {},
     "output_type": "execute_result"
    }
   ],
   "source": [
    "mod2"
   ]
  },
  {
   "cell_type": "code",
   "execution_count": 46,
   "id": "e15b4a59",
   "metadata": {},
   "outputs": [],
   "source": [
    "import seaborn as sns"
   ]
  },
  {
   "cell_type": "markdown",
   "id": "f1266832",
   "metadata": {},
   "source": [
    "# Model1 vs Model2"
   ]
  },
  {
   "cell_type": "code",
   "execution_count": 61,
   "id": "200ac011",
   "metadata": {},
   "outputs": [
    {
     "data": {
      "image/png": "[encoded data removed]",
      "text/plain": [
       "<Figure size 432x288 with 1 Axes>"
      ]
     },
     "metadata": {
      "needs_background": "light"
     },
     "output_type": "display_data"
    }
   ],
   "source": [
    "plt.plot(\"Train_loss\",data = mod1,label = \"Mod1\")\n",
    "plt.plot(\"Train_loss\",data = mod2,label = \"Mod2\")\n",
    "plt.title(\"Train_Loss\")\n",
    "plt.legend()\n",
    "plt.show()"
   ]
  },
  {
   "cell_type": "code",
   "execution_count": null,
   "id": "0fa8275e",
   "metadata": {},
   "outputs": [],
   "source": [
    "#so from the above we can see that model 2 is perfroming better that model 1"
   ]
  },
  {
   "cell_type": "code",
   "execution_count": 62,
   "id": "e37de6cf",
   "metadata": {},
   "outputs": [
    {
     "data": {
      "image/png": "[encoded data removed]",
      "text/plain": [
       "<Figure size 432x288 with 1 Axes>"
      ]
     },
     "metadata": {
      "needs_background": "light"
     },
     "output_type": "display_data"
    }
   ],
   "source": [
    "plt.plot(\"Train_Accuracy\",data = mod1,label= \"Mod1\")\n",
    "plt.plot(\"Train_Accuracy\",data = mod2,label= \"Mod2\")\n",
    "plt.title(\"Train_Accuracy\")\n",
    "plt.legend()\n",
    "plt.show()"
   ]
  },
  {
   "cell_type": "code",
   "execution_count": null,
   "id": "0fae9599",
   "metadata": {},
   "outputs": [],
   "source": [
    "# And here also model 2 Train accuracy score have outperformed model 1 "
   ]
  },
  {
   "cell_type": "code",
   "execution_count": 63,
   "id": "f3aff66d",
   "metadata": {},
   "outputs": [
    {
     "data": {
      "image/png": "[encoded data removed]",
      "text/plain": [
       "<Figure size 432x288 with 1 Axes>"
      ]
     },
     "metadata": {
      "needs_background": "light"
     },
     "output_type": "display_data"
    }
   ],
   "source": [
    "plt.plot(\"Test_loss\",data = mod1,label= \"Mod1\")\n",
    "plt.plot(\"Test_loss\",data = mod2,label= \"Mod2\")\n",
    "plt.title(\"Test_loss\")\n",
    "plt.legend()\n",
    "plt.show()"
   ]
  },
  {
   "cell_type": "code",
   "execution_count": null,
   "id": "1ff969cd",
   "metadata": {},
   "outputs": [],
   "source": [
    "#we can see that same over here "
   ]
  },
  {
   "cell_type": "code",
   "execution_count": 64,
   "id": "bf869a75",
   "metadata": {},
   "outputs": [
    {
     "data": {
      "image/png": "[encoded data removed]",
      "text/plain": [
       "<Figure size 432x288 with 1 Axes>"
      ]
     },
     "metadata": {
      "needs_background": "light"
     },
     "output_type": "display_data"
    }
   ],
   "source": [
    "plt.plot(\"Test_Accuracy\",data = mod1,label= \"Mod1\")\n",
    "plt.plot(\"Test_Accuracy\",data = mod2,label= \"Mod2\")\n",
    "plt.title(\"Test_Accuracy\")\n",
    "plt.legend()\n",
    "plt.show()"
   ]
  },
  {
   "cell_type": "code",
   "execution_count": null,
   "id": "8b37382c",
   "metadata": {},
   "outputs": [],
   "source": [
    "# thus we can conclude that model 2 is performing better than model 1 so we can go ahead with model2"
   ]
  }
 ],
 "metadata": {
  "kernelspec": {
   "display_name": "Python 3 (ipykernel)",
   "language": "python",
   "name": "python3"
  },
  "language_info": {
   "codemirror_mode": {
    "name": "ipython",
    "version": 3
   },
   "file_extension": ".py",
   "mimetype": "text/x-python",
   "name": "python",
   "nbconvert_exporter": "python",
   "pygments_lexer": "ipython3",
   "version": "3.9.12"
  }
 },
 "nbformat": 4,
 "nbformat_minor": 5
}
