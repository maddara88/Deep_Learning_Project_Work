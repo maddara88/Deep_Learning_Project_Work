{
 "cells": [
  {
   "cell_type": "markdown",
   "id": "c1ca6ce5",
   "metadata": {},
   "source": [
    "# Module 2: Tensor Flow Assignment "
   ]
  },
  {
   "cell_type": "code",
   "execution_count": 1,
   "id": "8b4e8bd5",
   "metadata": {},
   "outputs": [],
   "source": [
    "# Tasks to be Done: \n",
    "\n",
    "\n",
    "# A. Shows how you can create a session in Tensor Flow \n",
    "\n",
    "# B. Define constants and perform computation such as addition and subtraction with those \n",
    "# constants using the session. \n",
    "\n",
    "# C. Print Hello World using the same \n",
    "\n",
    "# D. Create a simple Linear Equation y = mx+c in tensor flow, where m and c are variables \n",
    "# and x is a placeholder \n",
    "# a. Feed in a scalar value to x \n",
    "# b. Feed in a vector of 5 values to x \n",
    "# c. Choose arbitrary values for m and c"
   ]
  },
  {
   "cell_type": "code",
   "execution_count": 4,
   "id": "28f59d47",
   "metadata": {},
   "outputs": [],
   "source": [
    "# In newer versions of Tensor Flow (2.0 and later), sessions are no longer required for most operations.\n",
    "# Instead, we can use the eager execution mode to execute operations immediately as they are called.\n",
    "# which we have performed below"
   ]
  },
  {
   "cell_type": "code",
   "execution_count": null,
   "id": "73181c20",
   "metadata": {},
   "outputs": [],
   "source": [
    "# A. Shows how you can create a session in Tensor Flow \n",
    "\n",
    "# B. Define constants and perform computation such as addition and subtraction with those \n",
    "# constants using the session. "
   ]
  },
  {
   "cell_type": "code",
   "execution_count": 8,
   "id": "3712972d",
   "metadata": {},
   "outputs": [
    {
     "name": "stdout",
     "output_type": "stream",
     "text": [
      "-1\n",
      "11\n"
     ]
    }
   ],
   "source": [
    "import tensorflow as tf\n",
    "\n",
    "#creating tensors\n",
    "\n",
    "a = tf.constant(5)\n",
    "b = tf.constant(6)\n",
    "\n",
    "#performing multiplicatoin operation on tensors\n",
    "p = a-b\n",
    "k = a+b\n",
    "\n",
    "\n",
    "tf.print(p)\n",
    "tf.print(k)"
   ]
  },
  {
   "cell_type": "code",
   "execution_count": 9,
   "id": "50cc152a",
   "metadata": {},
   "outputs": [
    {
     "name": "stdout",
     "output_type": "stream",
     "text": [
      "Hello World\r\n"
     ]
    }
   ],
   "source": [
    "# C. Print Hello World using the same \n",
    "\n",
    "var = tf.constant(\"Hello World\")\n",
    "tf.print(var)"
   ]
  },
  {
   "cell_type": "code",
   "execution_count": 10,
   "id": "c6376764",
   "metadata": {},
   "outputs": [],
   "source": [
    "# D. Create a simple Linear Equation y = mx+c in tensor flow, where m and c are variables \n",
    "# and x is a placeholder \n",
    "# a. Feed in a scalar value to x \n",
    "# b. Feed in a vector of 5 values to x \n",
    "# c. Choose arbitrary values for m and c"
   ]
  },
  {
   "cell_type": "code",
   "execution_count": 19,
   "id": "800ba56b",
   "metadata": {},
   "outputs": [
    {
     "name": "stdout",
     "output_type": "stream",
     "text": [
      "27\r\n"
     ]
    }
   ],
   "source": [
    "import tensorflow as tf\n",
    "\n",
    "# define the variables\n",
    "m = tf.Variable(4.0)\n",
    "c = tf.Variable(7.0)\n",
    "\n",
    "# define the function using the tf.function decorator\n",
    "@tf.function\n",
    "def linear_eqn(x):\n",
    "    y = tf.add(tf.multiply(m, x), c)\n",
    "    return y\n",
    "\n",
    "# call the function with an input value of 5.0\n",
    "result = linear_eqn(tf.constant(5.0, dtype=tf.float32))\n",
    "\n",
    "# print the result\n",
    "tf.print(result)"
   ]
  },
  {
   "cell_type": "code",
   "execution_count": 21,
   "id": "ce6df9aa",
   "metadata": {},
   "outputs": [
    {
     "name": "stdout",
     "output_type": "stream",
     "text": [
      "[19 23 27 31 35]\r\n"
     ]
    }
   ],
   "source": [
    "result = linear_eqn(tf.constant([3,4,5,6,7], dtype=tf.float32))\n",
    "tf.print(result)"
   ]
  },
  {
   "cell_type": "code",
   "execution_count": null,
   "id": "684a079b",
   "metadata": {},
   "outputs": [],
   "source": []
  }
 ],
 "metadata": {
  "kernelspec": {
   "display_name": "Python 3 (ipykernel)",
   "language": "python",
   "name": "python3"
  },
  "language_info": {
   "codemirror_mode": {
    "name": "ipython",
    "version": 3
   },
   "file_extension": ".py",
   "mimetype": "text/x-python",
   "name": "python",
   "nbconvert_exporter": "python",
   "pygments_lexer": "ipython3",
   "version": "3.9.12"
  }
 },
 "nbformat": 4,
 "nbformat_minor": 5
}
